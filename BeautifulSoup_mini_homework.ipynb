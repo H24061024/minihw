{
 "cells": [
  {
   "cell_type": "markdown",
   "metadata": {},
   "source": [
    "# BeautifulSoup mini-homework\n",
    "\n",
    "* 本次作業期望利用套件Beautiful及requests進行網頁抓取\n",
    "* 目標網站為知名網站批踢踢實業坊之movie版\n",
    "* 抓取最新之5頁內容\n",
    "* 輸出csv檔，其中包含作者、看板、標題、時間、分數、內容\n",
    "* 其中分數欄算法 : 推+1分、噓-1分\n"
   ]
  },
  {
   "cell_type": "markdown",
   "metadata": {},
   "source": [
    "### Step1 : Import Package"
   ]
  },
  {
   "cell_type": "code",
   "execution_count": 1,
   "metadata": {},
   "outputs": [],
   "source": [
    "import re\n",
    "# Web scraping\n",
    "from bs4 import BeautifulSoup\n",
    "import requests\n",
    "# Data manipulation\n",
    "import numpy as np\n",
    "import pandas as pd"
   ]
  },
  {
   "cell_type": "markdown",
   "metadata": {},
   "source": [
    "### Step2 : Recommended Variable"
   ]
  },
  {
   "cell_type": "code",
   "execution_count": 2,
   "metadata": {},
   "outputs": [],
   "source": [
    "# 從 movie 版首頁開始\n",
    "url = \"https://www.ptt.cc/bbs/movie/index.html\"\n",
    "\n",
    "# 準備要記錄的表格\n",
    "df = pd.DataFrame(columns=[\"作者\", \"看板\", \"標題\", \"時間\", \"分數\", \"內容\"])\n"
   ]
  },
  {
   "cell_type": "markdown",
   "metadata": {},
   "source": [
    "### Step3 : Define a function\n",
    "\n",
    "定義一個函數，可以使之回傳讀取完一篇文章所抓取到的6項變數資料\n",
    "* 可能會使用到資料分析相關套件(如:pandas)\n",
    "* 不需要的資料(如:公告、版規等)務必過濾掉\n"
   ]
  },
  {
   "cell_type": "code",
   "execution_count": 3,
   "metadata": {},
   "outputs": [],
   "source": [
    "#so hard\n",
    "def get_page_meta(url):\n",
    "    result = {}\n",
    "    html = requests.get(url)\n",
    "    soup = BeautifulSoup(html.text, \"html.parser\")\n",
    "    main = soup.find(\"div\", id = \"main-content\")\n",
    "    info = main.find(\"div\", class_ = \"article-metaline\")\n",
    "    for i in main.find_all(\"div\", class_ = re.compile(\"article-metaline\")):\n",
    "        tag = i.find(\"span\", class_ = ).text\n",
    "        value = i.find(\"span\", class_ = ).text\n",
    "        result[tag] = value\n",
    "    push = main.find_all(\"div\", class_ = \"push\")\n",
    "    for i in push:\n",
    "        push_tag=[i.find(\"span\", class_ = re.compile(\"push-tag\")).text]\n",
    "    for i in range(len(push_tag)):\n",
    "        if push_tag[i] == \"推 \": \n",
    "            push_tag[i] = 1\n",
    "        elif push_tag[i] == \"噓 \": \n",
    "            push_tag[i] = -1\n",
    "        else: \n",
    "            push_tag[i] = 0\n",
    "    result[\"分數\"] = sum(push_tag)\n",
    "    start = main.text.find(\"\\n\")\n",
    "    end = main.text.find(\"※\")\n",
    "    content = main.text[start:end]\n",
    "    for i in main.find_all(text = re.compile(\"※\")):\n",
    "        if i != '※ 文章網址: ':\n",
    "            content += (i + \"\\n\")\n",
    "        else:\n",
    "            content += (i + url +\"\\n\")\n",
    "    result[\"內容\"] = content\n",
    "    return result"
   ]
  },
  {
   "cell_type": "markdown",
   "metadata": {},
   "source": [
    "### Step4 : Main Program\n",
    "\n",
    "請仔細觀察該網站之原始碼規律，搭配上課提及的方法完成作業。\n",
    "* 注意輸出csv檔之前須考慮編碼方式(可搭配 encoding=\"utf_8_sig\")"
   ]
  },
  {
   "cell_type": "code",
   "execution_count": 4,
   "metadata": {},
   "outputs": [
    {
     "ename": "UnboundLocalError",
     "evalue": "local variable 'push_tag' referenced before assignment",
     "output_type": "error",
     "traceback": [
      "\u001b[1;31m---------------------------------------------------------------------------\u001b[0m",
      "\u001b[1;31mUnboundLocalError\u001b[0m                         Traceback (most recent call last)",
      "\u001b[1;32m<ipython-input-4-2112b15c7860>\u001b[0m in \u001b[0;36m<module>\u001b[1;34m\u001b[0m\n\u001b[0;32m      8\u001b[0m             \u001b[1;32mcontinue\u001b[0m\u001b[1;33m\u001b[0m\u001b[1;33m\u001b[0m\u001b[0m\n\u001b[0;32m      9\u001b[0m         \u001b[0mnew_url\u001b[0m \u001b[1;33m=\u001b[0m \u001b[1;34m\"http://www.ptt.cc\"\u001b[0m \u001b[1;33m+\u001b[0m \u001b[0marticle\u001b[0m\u001b[1;33m.\u001b[0m\u001b[0mfind\u001b[0m\u001b[1;33m(\u001b[0m\u001b[1;34m\"a\"\u001b[0m\u001b[1;33m)\u001b[0m\u001b[1;33m.\u001b[0m\u001b[0mget\u001b[0m\u001b[1;33m(\u001b[0m\u001b[1;34m\"href\"\u001b[0m\u001b[1;33m)\u001b[0m\u001b[1;33m\u001b[0m\u001b[1;33m\u001b[0m\u001b[0m\n\u001b[1;32m---> 10\u001b[1;33m         \u001b[0mdata\u001b[0m \u001b[1;33m=\u001b[0m \u001b[0mget_page_meta\u001b[0m\u001b[1;33m(\u001b[0m\u001b[0mnew_url\u001b[0m\u001b[1;33m)\u001b[0m\u001b[1;33m\u001b[0m\u001b[1;33m\u001b[0m\u001b[0m\n\u001b[0m\u001b[0;32m     11\u001b[0m         \u001b[0mdf\u001b[0m \u001b[1;33m=\u001b[0m \u001b[0mdf\u001b[0m\u001b[1;33m.\u001b[0m\u001b[0mappend\u001b[0m\u001b[1;33m(\u001b[0m\u001b[0mdata\u001b[0m\u001b[1;33m,\u001b[0m \u001b[0mignore_index\u001b[0m \u001b[1;33m=\u001b[0m \u001b[1;32mTrue\u001b[0m\u001b[1;33m)\u001b[0m\u001b[1;33m\u001b[0m\u001b[1;33m\u001b[0m\u001b[0m\n\u001b[0;32m     12\u001b[0m     \u001b[0mbtn_page\u001b[0m \u001b[1;33m=\u001b[0m \u001b[0mall_movie_soup\u001b[0m\u001b[1;33m.\u001b[0m\u001b[0mfind\u001b[0m\u001b[1;33m(\u001b[0m\u001b[1;34m\"div\"\u001b[0m\u001b[1;33m,\u001b[0m \u001b[0mclass_\u001b[0m\u001b[1;33m=\u001b[0m\u001b[1;34m\"btn-group btn-group-paging\"\u001b[0m\u001b[1;33m)\u001b[0m\u001b[1;33m\u001b[0m\u001b[1;33m\u001b[0m\u001b[0m\n",
      "\u001b[1;32m<ipython-input-3-05b9204b9b99>\u001b[0m in \u001b[0;36mget_page_meta\u001b[1;34m(url)\u001b[0m\n\u001b[0;32m     12\u001b[0m     \u001b[1;32mfor\u001b[0m \u001b[0mi\u001b[0m \u001b[1;32min\u001b[0m \u001b[0mpush\u001b[0m\u001b[1;33m:\u001b[0m\u001b[1;33m\u001b[0m\u001b[1;33m\u001b[0m\u001b[0m\n\u001b[0;32m     13\u001b[0m         \u001b[0mpush_tag\u001b[0m\u001b[1;33m=\u001b[0m\u001b[1;33m[\u001b[0m\u001b[0mi\u001b[0m\u001b[1;33m.\u001b[0m\u001b[0mfind\u001b[0m\u001b[1;33m(\u001b[0m\u001b[1;34m\"span\"\u001b[0m\u001b[1;33m,\u001b[0m \u001b[0mclass_\u001b[0m \u001b[1;33m=\u001b[0m \u001b[0mre\u001b[0m\u001b[1;33m.\u001b[0m\u001b[0mcompile\u001b[0m\u001b[1;33m(\u001b[0m\u001b[1;34m\"push-tag\"\u001b[0m\u001b[1;33m)\u001b[0m\u001b[1;33m)\u001b[0m\u001b[1;33m.\u001b[0m\u001b[0mtext\u001b[0m\u001b[1;33m]\u001b[0m\u001b[1;33m\u001b[0m\u001b[1;33m\u001b[0m\u001b[0m\n\u001b[1;32m---> 14\u001b[1;33m     \u001b[1;32mfor\u001b[0m \u001b[0mi\u001b[0m \u001b[1;32min\u001b[0m \u001b[0mrange\u001b[0m\u001b[1;33m(\u001b[0m\u001b[0mlen\u001b[0m\u001b[1;33m(\u001b[0m\u001b[0mpush_tag\u001b[0m\u001b[1;33m)\u001b[0m\u001b[1;33m)\u001b[0m\u001b[1;33m:\u001b[0m\u001b[1;33m\u001b[0m\u001b[1;33m\u001b[0m\u001b[0m\n\u001b[0m\u001b[0;32m     15\u001b[0m         \u001b[1;32mif\u001b[0m \u001b[0mpush_tag\u001b[0m\u001b[1;33m[\u001b[0m\u001b[0mi\u001b[0m\u001b[1;33m]\u001b[0m \u001b[1;33m==\u001b[0m \u001b[1;34m\"推 \"\u001b[0m\u001b[1;33m:\u001b[0m\u001b[1;33m\u001b[0m\u001b[1;33m\u001b[0m\u001b[0m\n\u001b[0;32m     16\u001b[0m             \u001b[0mpush_tag\u001b[0m\u001b[1;33m[\u001b[0m\u001b[0mi\u001b[0m\u001b[1;33m]\u001b[0m \u001b[1;33m=\u001b[0m \u001b[1;36m1\u001b[0m\u001b[1;33m\u001b[0m\u001b[1;33m\u001b[0m\u001b[0m\n",
      "\u001b[1;31mUnboundLocalError\u001b[0m: local variable 'push_tag' referenced before assignment"
     ]
    }
   ],
   "source": [
    "for i in range(5):\n",
    "    html_movie = requests.get(url)\n",
    "    all_movie_soup = BeautifulSoup(html_movie.text, \"html.parser\")\n",
    "    articles = all_movie_soup.find_all(\"div\", class_ = \"r-ent\") \n",
    "    for article in articles:\n",
    "        title = article.find(\"div\", class_ = \"title\").text.strip()\n",
    "        if (title.startswith(\"(本文已被刪除)\") or title.startswith(\"[公告]\")):\n",
    "            continue\n",
    "        new_url = \"http://www.ptt.cc\" + article.find(\"a\").get(\"href\")\n",
    "        data = get_page_meta(new_url)\n",
    "        df = df.append(data, ignore_index = True)\n",
    "    btn_page = all_movie_soup.find(\"div\", class_=\"btn-group btn-group-paging\")\n",
    "    url = \"http://www.ptt.cc\" + btn_page.find_all(\"a\")[1].get(\"href\")\n",
    "df.to_csv('mini_homework_output.csv', index = False, encoding = \"utf_8_sig\")"
   ]
  },
  {
   "cell_type": "code",
   "execution_count": null,
   "metadata": {},
   "outputs": [],
   "source": []
  }
 ],
 "metadata": {
  "kernelspec": {
   "display_name": "Python 3",
   "language": "python",
   "name": "python3"
  },
  "language_info": {
   "codemirror_mode": {
    "name": "ipython",
    "version": 3
   },
   "file_extension": ".py",
   "mimetype": "text/x-python",
   "name": "python",
   "nbconvert_exporter": "python",
   "pygments_lexer": "ipython3",
   "version": "3.8.6rc1"
  }
 },
 "nbformat": 4,
 "nbformat_minor": 4
}
